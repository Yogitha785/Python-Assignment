{
 "cells": [
  {
   "cell_type": "markdown",
   "metadata": {},
   "source": [
    "# Task 1"
   ]
  },
  {
   "cell_type": "code",
   "execution_count": 1,
   "metadata": {},
   "outputs": [],
   "source": [
    "def read_ip():\n",
    "    ip = raw_input(\"Please enter a list of strings:\")\n",
    "    ip = ip[1:len(ip)-1]\n",
    "    ip = ip.split(',')\n",
    "    list_ip = []\n",
    "    for n in ip:\n",
    "        list_ip.append(n[1:len(n)-1])\n",
    "    sorted_list = sorted(list_ip,key = len)\n",
    "    return sorted_list"
   ]
  },
  {
   "cell_type": "code",
   "execution_count": 2,
   "metadata": {},
   "outputs": [
    {
     "name": "stdout",
     "output_type": "stream",
     "text": [
      "Please enter a list of strings:['Apple','Ball','Pen','Gate','Elephant','word','Ten','a','he']\n"
     ]
    },
    {
     "data": {
      "text/plain": [
       "['a', 'he', 'Pen', 'Ten', 'Ball', 'Gate', 'word', 'Apple', 'Elephant']"
      ]
     },
     "execution_count": 2,
     "metadata": {},
     "output_type": "execute_result"
    }
   ],
   "source": [
    "read_ip()"
   ]
  },
  {
   "cell_type": "markdown",
   "metadata": {},
   "source": [
    "# Task 2"
   ]
  },
  {
   "cell_type": "code",
   "execution_count": 19,
   "metadata": {},
   "outputs": [],
   "source": [
    "def cipher(m,n):\n",
    "    for i in range(m,(n+1)):\n",
    "        character = \"\"\n",
    "        while i > 0:\n",
    "            mod = (i - 1) % 26\n",
    "            character = chr(65+mod) + character\n",
    "            i = int((i - mod) / 26)\n",
    "        print character\n",
    "    return None"
   ]
  },
  {
   "cell_type": "code",
   "execution_count": 24,
   "metadata": {},
   "outputs": [
    {
     "name": "stdout",
     "output_type": "stream",
     "text": [
      "Y\n",
      "Z\n",
      "AA\n",
      "AB\n",
      "AC\n"
     ]
    }
   ],
   "source": [
    "cipher(25,29)"
   ]
  },
  {
   "cell_type": "markdown",
   "metadata": {},
   "source": [
    "# Task 3"
   ]
  },
  {
   "cell_type": "code",
   "execution_count": 54,
   "metadata": {},
   "outputs": [],
   "source": [
    "def factors(n):\n",
    "    factors= set()\n",
    "    p = 0\n",
    "    for i in range(2, n):\n",
    "        if n % i ==0:\n",
    "            p = p+1\n",
    "    if p <= 0:\n",
    "        print(\"{} is Prime number\".format(n))\n",
    "    else:\n",
    "        print(\"Factors of the number {} are:\".format(n))\n",
    "        for i in xrange(2,n+1):\n",
    "            if n % i == 0:\n",
    "                factors.add(i)\n",
    "    return factors"
   ]
  },
  {
   "cell_type": "code",
   "execution_count": 58,
   "metadata": {},
   "outputs": [
    {
     "name": "stdout",
     "output_type": "stream",
     "text": [
      "Factors of the number 27 are:\n"
     ]
    },
    {
     "data": {
      "text/plain": [
       "{3, 9, 27}"
      ]
     },
     "execution_count": 58,
     "metadata": {},
     "output_type": "execute_result"
    }
   ],
   "source": [
    "factors(27)"
   ]
  },
  {
   "cell_type": "code",
   "execution_count": 59,
   "metadata": {},
   "outputs": [
    {
     "name": "stdout",
     "output_type": "stream",
     "text": [
      "17 is Prime number\n"
     ]
    },
    {
     "data": {
      "text/plain": [
       "set()"
      ]
     },
     "execution_count": 59,
     "metadata": {},
     "output_type": "execute_result"
    }
   ],
   "source": [
    "factors(17)"
   ]
  }
 ],
 "metadata": {
  "kernelspec": {
   "display_name": "Python 2",
   "language": "python",
   "name": "python2"
  },
  "language_info": {
   "codemirror_mode": {
    "name": "ipython",
    "version": 2
   },
   "file_extension": ".py",
   "mimetype": "text/x-python",
   "name": "python",
   "nbconvert_exporter": "python",
   "pygments_lexer": "ipython2",
   "version": "2.7.13"
  }
 },
 "nbformat": 4,
 "nbformat_minor": 2
}
